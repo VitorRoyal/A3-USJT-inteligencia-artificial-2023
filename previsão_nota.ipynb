{
  "nbformat": 4,
  "nbformat_minor": 0,
  "metadata": {
    "colab": {
      "provenance": []
    },
    "kernelspec": {
      "name": "python3",
      "display_name": "Python 3"
    },
    "language_info": {
      "name": "python"
    }
  },
  "cells": [
    {
      "cell_type": "code",
      "source": [
        "import pandas as pd\n",
        "from sklearn.model_selection import train_test_split\n",
        "from sklearn.linear_model import LinearRegression\n",
        "from sklearn.metrics import mean_squared_error\n",
        "\n",
        "# Carregando os dados\n",
        "filmes = pd.read_csv('filmes.csv')\n",
        "pesos_diretores = pd.read_csv('pesos_diretores.csv')\n",
        "pesos_generos = pd.read_csv('pesos_generos.csv')\n",
        "pesos_anos = pd.read_csv('pesos_anos.csv')\n",
        "\n",
        "# Convertendo a coluna 'ano' para o tipo de dados correto\n",
        "filmes['released'] = filmes['released'].astype(str)\n",
        "\n",
        "# Unindo as planilhas\n",
        "dados = pd.merge(filmes, pesos_diretores, on='director', how='left')\n",
        "dados = pd.merge(dados, pesos_generos, on='genre', how='left')\n",
        "dados = pd.merge(dados, pesos_anos, on='released', how='left')\n",
        "\n",
        "# Removendo linhas com valores NaN\n",
        "dados.dropna(inplace=True)\n",
        "\n",
        "# Dividindo os dados\n",
        "X = dados[['peso_diretor', 'peso_gênero', 'peso_ano']]\n",
        "y = dados['nota_imdb']\n",
        "X_train, X_test, y_train, y_test = train_test_split(X, y, test_size=0.2, random_state=42)\n",
        "\n",
        "# Treinando o modelo\n",
        "modelo = LinearRegression()\n",
        "modelo.fit(X_train, y_train)\n",
        "\n",
        "# Fazendo previsões\n",
        "y_pred = modelo.predict(X_test)\n",
        "\n",
        "# Avaliando o modelo\n",
        "mse = mean_squared_error(y_test, y_pred)\n",
        "print(f'MSE: {mse}')\n",
        "\n",
        "def prever_nota(released, genre, director):\n",
        "\n",
        "    # Convertendo o ano para string\n",
        "    released = str(released)\n",
        "\n",
        "    # Primeiro, vamos transformar as entradas em uma lista de dicionários\n",
        "    dados_previsao = [{'released': released, 'genre': ', '.join(sorted(set(genre))), 'director': ', '.join(sorted(set(director)))}]\n",
        "\n",
        "    # Agora, vamos transformar essa lista em um DataFrame\n",
        "    df = pd.DataFrame(dados_previsao)\n",
        "\n",
        "    # Unindo as planilhas corretas\n",
        "    df = pd.merge(df, pesos_diretores, on='director', how='left')\n",
        "    df = pd.merge(df, pesos_generos, on='genre', how='left')\n",
        "    df = pd.merge(df, pesos_anos, on='released', how='left')\n",
        "\n",
        "    # Agora, vamos preparar os dados para a previsão\n",
        "    X = df[['peso_diretor', 'peso_gênero', 'peso_ano']]  # Certificando-se de que as colunas estão corretamente nomeadas\n",
        "\n",
        "    # Finalmente, vamos fazer a previsão\n",
        "    if not df.empty:\n",
        "        y_pred = modelo.predict(X)\n",
        "\n",
        "        # Vamos retornar a média das previsões, já que temos várias previsões (uma para cada combinação de gênero e diretor)\n",
        "        return y_pred.mean()\n",
        "    else:\n",
        "        print(\"Não foi possível fazer uma previsão devido à falta de dados correspondentes.\")\n",
        "        return None\n",
        "\n",
        "def obter_entradas_usuario():\n",
        "    released = int(input(\"Informe o ano de lançamento do filme: \"))\n",
        "    genre = input(\"Informe o(s) gênero(s) do filme separado(s) por vírgula: \").split(', ')\n",
        "    director = input(\"Informe o(s) diretor(es) do filme separado(s) por vírgula: \").split(', ')\n",
        "\n",
        "    return released, genre, director\n",
        "\n",
        "# Obtendo as informações do usuário\n",
        "released, genre, director = obter_entradas_usuario()\n",
        "\n",
        "# Fazendo a previsão com base nas informações do usuário\n",
        "print(\"A provável nota desse filme é:\" , prever_nota(released, genre, director))\n",
        "\n"
      ],
      "metadata": {
        "colab": {
          "base_uri": "https://localhost:8080/"
        },
        "id": "ng38RRJKMHYg",
        "outputId": "72ab0fdf-4f40-4a25-c237-25aa9b876c3d"
      },
      "execution_count": 60,
      "outputs": [
        {
          "output_type": "stream",
          "name": "stdout",
          "text": [
            "MSE: 0.40087359289985813\n",
            "Informe o ano de lançamento do filme: 2006\n",
            "Informe o(s) gênero(s) do filme separado(s) por vírgula: Musical, Romance\n",
            "Informe o(s) diretor(es) do filme separado(s) por vírgula: Kenny Ortega\n",
            "A provável nota desse filme é: 6.040524614732728\n"
          ]
        }
      ]
    }
  ]
}